{
 "cells": [
  {
   "cell_type": "markdown",
   "id": "2243c16f-c7fc-412a-ba71-68960695bce6",
   "metadata": {},
   "source": [
    "# Initializing environment"
   ]
  },
  {
   "cell_type": "code",
   "execution_count": 1,
   "id": "4f575572-d767-4fca-9287-6a04eba483a3",
   "metadata": {
    "tags": []
   },
   "outputs": [
    {
     "name": "stdout",
     "output_type": "stream",
     "text": [
      "os.getcwd()='/notebooks'\n",
      "sys.executable='/notebooks/vllm_venv/bin/python'\n",
      "==================================================\n",
      "sys.path[0] = /notebooks/vllm\n",
      "sys.path[1] = /usr/lib/python311.zip\n",
      "sys.path[2] = /usr/lib/python3.11\n",
      "sys.path[3] = /usr/lib/python3.11/lib-dynload\n",
      "sys.path[4] = \n",
      "sys.path[5] = /notebooks/vllm_venv/lib/python3.11/site-packages\n",
      "sys.path[6] = __editable__.vllm-0.9.2+cu118.finder.__path_hook__\n",
      "==================================================\n"
     ]
    }
   ],
   "source": [
    "import os, sys\n",
    "print(f'{os.getcwd()=}')\n",
    "print(f'{sys.executable=}')\n",
    "\n",
    "sys_path_vllm = '/notebooks/vllm'\n",
    "if os.path.isdir(sys_path_vllm) and sys_path_vllm not in sys.path:\n",
    "    sys.path.insert(0, sys_path_vllm)\n",
    "\n",
    "print('='*50)\n",
    "for i,p in enumerate(sys.path):\n",
    "    print(f'sys.path[{i}] = {p}')\n",
    "print('='*50)"
   ]
  },
  {
   "cell_type": "code",
   "execution_count": 2,
   "id": "3f83c7f9-6e1f-4fe1-9544-17756e4a15a1",
   "metadata": {
    "tags": []
   },
   "outputs": [
    {
     "name": "stdout",
     "output_type": "stream",
     "text": [
      "torch.__file__='/notebooks/vllm_venv/lib/python3.11/site-packages/torch/__init__.py'\n",
      "torch.__version__='2.7.0+cu118'\n",
      "CUDA device       : NVIDIA RTX A5000\n",
      "CUDA device index : 0\n",
      "Torch device used : cuda:0\n"
     ]
    }
   ],
   "source": [
    "import torch\n",
    "\n",
    "print(f'{torch.__file__=}\\n{torch.__version__=}')\n",
    "\n",
    "if torch.cuda.is_available():\n",
    "    print(\"CUDA device       :\", torch.cuda.get_device_name(0))\n",
    "    print(\"CUDA device index :\", torch.cuda.current_device())\n",
    "    print(\"Torch device used :\", torch.tensor([0.0]).to(\"cuda\").device)\n",
    "else:\n",
    "    print(\"CUDA NOT available --> using CPU\")"
   ]
  },
  {
   "cell_type": "markdown",
   "id": "d92f990e-e9bc-462e-a18a-98de13ae2f49",
   "metadata": {},
   "source": [
    "# Loading LLM"
   ]
  },
  {
   "cell_type": "code",
   "execution_count": 3,
   "id": "459a83f0-7b7f-4e80-aa6a-c54f9605774e",
   "metadata": {
    "tags": []
   },
   "outputs": [
    {
     "name": "stdout",
     "output_type": "stream",
     "text": [
      "INFO 07-22 12:09:06 [__init__.py:244] Automatically detected platform cuda.\n"
     ]
    },
    {
     "data": {
      "application/vnd.jupyter.widget-view+json": {
       "model_id": "2f458fccd10d407ba0a00f0f793cefad",
       "version_major": 2,
       "version_minor": 0
      },
      "text/plain": [
       "config.json:   0%|          | 0.00/651 [00:00<?, ?B/s]"
      ]
     },
     "metadata": {},
     "output_type": "display_data"
    },
    {
     "name": "stdout",
     "output_type": "stream",
     "text": [
      "INFO 07-22 12:09:26 [config.py:841] This model supports multiple tasks: {'reward', 'embed', 'generate', 'classify'}. Defaulting to 'generate'.\n",
      "INFO 07-22 12:09:26 [config.py:1472] Using max model len 2048\n",
      "INFO 07-22 12:09:28 [config.py:2285] Chunked prefill is enabled with max_num_batched_tokens=8192.\n"
     ]
    },
    {
     "data": {
      "application/vnd.jupyter.widget-view+json": {
       "model_id": "37dfdea952224814a572561a6ad9862e",
       "version_major": 2,
       "version_minor": 0
      },
      "text/plain": [
       "tokenizer_config.json:   0%|          | 0.00/685 [00:00<?, ?B/s]"
      ]
     },
     "metadata": {},
     "output_type": "display_data"
    },
    {
     "data": {
      "application/vnd.jupyter.widget-view+json": {
       "model_id": "671fbbb483724df3a2747c72c1f2d844",
       "version_major": 2,
       "version_minor": 0
      },
      "text/plain": [
       "vocab.json: 0.00B [00:00, ?B/s]"
      ]
     },
     "metadata": {},
     "output_type": "display_data"
    },
    {
     "data": {
      "application/vnd.jupyter.widget-view+json": {
       "model_id": "e8f42077611a49b991c54c8c6ae111d6",
       "version_major": 2,
       "version_minor": 0
      },
      "text/plain": [
       "merges.txt: 0.00B [00:00, ?B/s]"
      ]
     },
     "metadata": {},
     "output_type": "display_data"
    },
    {
     "data": {
      "application/vnd.jupyter.widget-view+json": {
       "model_id": "34f8f35b52e545eb9ed780d9850e861c",
       "version_major": 2,
       "version_minor": 0
      },
      "text/plain": [
       "special_tokens_map.json:   0%|          | 0.00/441 [00:00<?, ?B/s]"
      ]
     },
     "metadata": {},
     "output_type": "display_data"
    },
    {
     "data": {
      "application/vnd.jupyter.widget-view+json": {
       "model_id": "1e309dd5aadc47679096aeb8649f58b6",
       "version_major": 2,
       "version_minor": 0
      },
      "text/plain": [
       "generation_config.json:   0%|          | 0.00/137 [00:00<?, ?B/s]"
      ]
     },
     "metadata": {},
     "output_type": "display_data"
    },
    {
     "name": "stdout",
     "output_type": "stream",
     "text": [
      "WARNING 07-22 12:09:28 [__init__.py:2662] We must use the `spawn` multiprocessing start method. Overriding VLLM_WORKER_MULTIPROC_METHOD to 'spawn'. See https://docs.vllm.ai/en/latest/usage/troubleshooting.html#python-multiprocessing for more information. Reason: CUDA is initialized\n",
      "INFO 07-22 12:09:32 [__init__.py:244] Automatically detected platform cuda.\n",
      "INFO 07-22 12:09:34 [core.py:526] Waiting for init message from front-end.\n",
      "INFO 07-22 12:09:34 [core.py:69] Initializing a V1 LLM engine (v0.9.2) with config: model='facebook/opt-125m', speculative_config=None, tokenizer='facebook/opt-125m', skip_tokenizer_init=False, tokenizer_mode=auto, revision=None, override_neuron_config={}, tokenizer_revision=None, trust_remote_code=False, dtype=torch.float16, max_seq_len=2048, download_dir=None, load_format=LoadFormat.AUTO, tensor_parallel_size=1, pipeline_parallel_size=1, disable_custom_all_reduce=False, quantization=None, enforce_eager=False, kv_cache_dtype=auto,  device_config=cuda, decoding_config=DecodingConfig(backend='auto', disable_fallback=False, disable_any_whitespace=False, disable_additional_properties=False, reasoning_backend=''), observability_config=ObservabilityConfig(show_hidden_metrics_for_version=None, otlp_traces_endpoint=None, collect_detailed_traces=None), seed=0, served_model_name=facebook/opt-125m, num_scheduler_steps=1, multi_step_stream_outputs=True, enable_prefix_caching=True, chunked_prefill_enabled=True, use_async_output_proc=True, pooler_config=None, compilation_config={\"level\":3,\"debug_dump_path\":\"\",\"cache_dir\":\"\",\"backend\":\"\",\"custom_ops\":[],\"splitting_ops\":[\"vllm.unified_attention\",\"vllm.unified_attention_with_output\"],\"use_inductor\":true,\"compile_sizes\":[],\"inductor_compile_config\":{\"enable_auto_functionalized_v2\":false},\"inductor_passes\":{},\"use_cudagraph\":true,\"cudagraph_num_of_warmups\":1,\"cudagraph_capture_sizes\":[512,504,496,488,480,472,464,456,448,440,432,424,416,408,400,392,384,376,368,360,352,344,336,328,320,312,304,296,288,280,272,264,256,248,240,232,224,216,208,200,192,184,176,168,160,152,144,136,128,120,112,104,96,88,80,72,64,56,48,40,32,24,16,8,4,2,1],\"cudagraph_copy_inputs\":false,\"full_cuda_graph\":false,\"max_capture_size\":512,\"local_cache_dir\":null}\n",
      "INFO 07-22 12:09:37 [parallel_state.py:1076] rank 0 in world size 1 is assigned as DP rank 0, PP rank 0, TP rank 0, EP rank 0\n",
      "WARNING 07-22 12:09:37 [topk_topp_sampler.py:59] FlashInfer is not available. Falling back to the PyTorch-native implementation of top-p & top-k sampling. For the best performance, please install FlashInfer.\n",
      "INFO 07-22 12:09:37 [gpu_model_runner.py:1770] Starting to load model facebook/opt-125m...\n",
      "INFO 07-22 12:09:37 [gpu_model_runner.py:1775] Loading model from scratch...\n",
      "INFO 07-22 12:09:37 [cuda.py:284] Using Flash Attention backend on V1 engine.\n",
      "INFO 07-22 12:09:37 [weight_utils.py:292] Using model weights format ['*.bin']\n",
      "INFO 07-22 12:09:39 [weight_utils.py:308] Time spent downloading weights for facebook/opt-125m: 1.332431 seconds\n",
      "INFO 07-22 12:09:39 [default_loader.py:272] Loading weights took 0.20 seconds\n"
     ]
    },
    {
     "name": "stderr",
     "output_type": "stream",
     "text": [
      "Loading pt checkpoint shards:   0% Completed | 0/1 [00:00<?, ?it/s]\n",
      "Loading pt checkpoint shards: 100% Completed | 1/1 [00:00<00:00,  5.12it/s]\n",
      "Loading pt checkpoint shards: 100% Completed | 1/1 [00:00<00:00,  5.12it/s]\n",
      "\n"
     ]
    },
    {
     "name": "stdout",
     "output_type": "stream",
     "text": [
      "INFO 07-22 12:09:39 [gpu_model_runner.py:1801] Model loading took 0.2389 GiB and 1.783883 seconds\n",
      "INFO 07-22 12:09:48 [backends.py:508] Using cache directory: /root/.cache/vllm/torch_compile_cache/7b4b1a726a/rank_0_0/backbone for vLLM's torch.compile\n",
      "INFO 07-22 12:09:48 [backends.py:519] Dynamo bytecode transform time: 8.51 s\n",
      "INFO 07-22 12:09:50 [backends.py:181] Cache the graph of shape None for later use\n"
     ]
    },
    {
     "name": "stderr",
     "output_type": "stream",
     "text": [
      "[rank0]:W0722 12:09:50.766000 277 vllm_venv/lib/python3.11/site-packages/torch/_inductor/utils.py:1250] [0/0] Not enough SMs to use max_autotune_gemm mode\n"
     ]
    },
    {
     "name": "stdout",
     "output_type": "stream",
     "text": [
      "INFO 07-22 12:09:55 [backends.py:193] Compiling a graph for general shape takes 6.87 s\n",
      "INFO 07-22 12:09:58 [monitor.py:34] torch.compile takes 15.38 s in total\n",
      "INFO 07-22 12:09:59 [gpu_worker.py:232] Available KV cache memory: 20.54 GiB\n",
      "INFO 07-22 12:10:00 [kv_cache_utils.py:716] GPU KV cache size: 598,240 tokens\n",
      "INFO 07-22 12:10:00 [kv_cache_utils.py:720] Maximum concurrency for 2,048 tokens per request: 292.11x\n"
     ]
    },
    {
     "name": "stderr",
     "output_type": "stream",
     "text": [
      "Capturing CUDA graph shapes: 100%|██████████| 67/67 [00:19<00:00,  3.48it/s]\n"
     ]
    },
    {
     "name": "stdout",
     "output_type": "stream",
     "text": [
      "INFO 07-22 12:10:19 [gpu_model_runner.py:2326] Graph capturing finished in 19 secs, took 0.21 GiB\n",
      "INFO 07-22 12:10:19 [core.py:172] init engine (profile, create kv cache, warmup model) took 39.48 seconds\n"
     ]
    },
    {
     "data": {
      "application/vnd.jupyter.widget-view+json": {
       "model_id": "c3ad1ba0a954416c86363cc808cef9b5",
       "version_major": 2,
       "version_minor": 0
      },
      "text/plain": [
       "modules.json:   0%|          | 0.00/349 [00:00<?, ?B/s]"
      ]
     },
     "metadata": {},
     "output_type": "display_data"
    },
    {
     "data": {
      "application/vnd.jupyter.widget-view+json": {
       "model_id": "be8ba1decb6a466bbe796abdf5a25040",
       "version_major": 2,
       "version_minor": 0
      },
      "text/plain": [
       "config_sentence_transformers.json:   0%|          | 0.00/116 [00:00<?, ?B/s]"
      ]
     },
     "metadata": {},
     "output_type": "display_data"
    },
    {
     "data": {
      "application/vnd.jupyter.widget-view+json": {
       "model_id": "a8072b9f51b7447ca2b68be8ed6831ef",
       "version_major": 2,
       "version_minor": 0
      },
      "text/plain": [
       "README.md: 0.00B [00:00, ?B/s]"
      ]
     },
     "metadata": {},
     "output_type": "display_data"
    },
    {
     "data": {
      "application/vnd.jupyter.widget-view+json": {
       "model_id": "e104eeafa9534d7284bf867b953af7f3",
       "version_major": 2,
       "version_minor": 0
      },
      "text/plain": [
       "sentence_bert_config.json:   0%|          | 0.00/53.0 [00:00<?, ?B/s]"
      ]
     },
     "metadata": {},
     "output_type": "display_data"
    },
    {
     "data": {
      "application/vnd.jupyter.widget-view+json": {
       "model_id": "01887043df9e4a8b8151a2f2669a65b9",
       "version_major": 2,
       "version_minor": 0
      },
      "text/plain": [
       "config.json:   0%|          | 0.00/612 [00:00<?, ?B/s]"
      ]
     },
     "metadata": {},
     "output_type": "display_data"
    },
    {
     "data": {
      "application/vnd.jupyter.widget-view+json": {
       "model_id": "321ae37d94e74391903f90f86ab3a15d",
       "version_major": 2,
       "version_minor": 0
      },
      "text/plain": [
       "model.safetensors:   0%|          | 0.00/90.9M [00:00<?, ?B/s]"
      ]
     },
     "metadata": {},
     "output_type": "display_data"
    },
    {
     "data": {
      "application/vnd.jupyter.widget-view+json": {
       "model_id": "88cc567ba3264e1780ee26e771b2b7de",
       "version_major": 2,
       "version_minor": 0
      },
      "text/plain": [
       "tokenizer_config.json:   0%|          | 0.00/350 [00:00<?, ?B/s]"
      ]
     },
     "metadata": {},
     "output_type": "display_data"
    },
    {
     "data": {
      "application/vnd.jupyter.widget-view+json": {
       "model_id": "fe58ab2a00924854b2ca07f3a2f73b42",
       "version_major": 2,
       "version_minor": 0
      },
      "text/plain": [
       "vocab.txt: 0.00B [00:00, ?B/s]"
      ]
     },
     "metadata": {},
     "output_type": "display_data"
    },
    {
     "data": {
      "application/vnd.jupyter.widget-view+json": {
       "model_id": "c96a153dc8fe4a3d9706d71238e7cbfd",
       "version_major": 2,
       "version_minor": 0
      },
      "text/plain": [
       "tokenizer.json: 0.00B [00:00, ?B/s]"
      ]
     },
     "metadata": {},
     "output_type": "display_data"
    },
    {
     "data": {
      "application/vnd.jupyter.widget-view+json": {
       "model_id": "0d52a573ecb843da9cd85702f052b463",
       "version_major": 2,
       "version_minor": 0
      },
      "text/plain": [
       "special_tokens_map.json:   0%|          | 0.00/112 [00:00<?, ?B/s]"
      ]
     },
     "metadata": {},
     "output_type": "display_data"
    },
    {
     "data": {
      "application/vnd.jupyter.widget-view+json": {
       "model_id": "b393f047c5f34df0a0de9cf8dd87dd52",
       "version_major": 2,
       "version_minor": 0
      },
      "text/plain": [
       "config.json:   0%|          | 0.00/190 [00:00<?, ?B/s]"
      ]
     },
     "metadata": {},
     "output_type": "display_data"
    }
   ],
   "source": [
    "import numpy as np\n",
    "from vllm import LLM, SamplingParams\n",
    "# from vllm.lora.request import get_tokenizer\n",
    "from sentence_transformers import SentenceTransformer\n",
    "\n",
    "gen_model_name = \"facebook/opt-125m\"\n",
    "embedding_model_name = \"all-MiniLM-L6-v2\"\n",
    "\n",
    "\n",
    "llm = LLM(model=gen_model_name)\n",
    "\n",
    "# tokenizer = get_tokenizer(gen_model_name)\n",
    "tokenizer = llm.get_tokenizer()\n",
    "\n",
    "embedding_model = SentenceTransformer(embedding_model_name)\n"
   ]
  },
  {
   "cell_type": "markdown",
   "id": "1c9c9484-5fd2-411e-98e1-d1068c183b57",
   "metadata": {},
   "source": [
    "# Loading Dataset"
   ]
  },
  {
   "cell_type": "code",
   "execution_count": 4,
   "id": "57ea8e6c-38e0-49fb-8a60-c99c86f8e137",
   "metadata": {
    "tags": []
   },
   "outputs": [
    {
     "data": {
      "application/vnd.jupyter.widget-view+json": {
       "model_id": "2ac981a29f3547c08a0a72de8100c511",
       "version_major": 2,
       "version_minor": 0
      },
      "text/plain": [
       "README.md: 0.00B [00:00, ?B/s]"
      ]
     },
     "metadata": {},
     "output_type": "display_data"
    },
    {
     "data": {
      "application/vnd.jupyter.widget-view+json": {
       "model_id": "e01a890896f741fb9780194c80800605",
       "version_major": 2,
       "version_minor": 0
      },
      "text/plain": [
       "(…)-00000-of-00001-b42a775f407cee45.parquet:   0%|          | 0.00/39.5M [00:00<?, ?B/s]"
      ]
     },
     "metadata": {},
     "output_type": "display_data"
    },
    {
     "data": {
      "application/vnd.jupyter.widget-view+json": {
       "model_id": "867a1199622f4c70b59717451470a2ea",
       "version_major": 2,
       "version_minor": 0
      },
      "text/plain": [
       "(…)-00000-of-00001-134b8fd0c89408b6.parquet:   0%|          | 0.00/2.08M [00:00<?, ?B/s]"
      ]
     },
     "metadata": {},
     "output_type": "display_data"
    },
    {
     "data": {
      "application/vnd.jupyter.widget-view+json": {
       "model_id": "fefa7e4f3a964c5d89b0c9d52752c1ba",
       "version_major": 2,
       "version_minor": 0
      },
      "text/plain": [
       "Generating train split:   0%|          | 0/84437 [00:00<?, ? examples/s]"
      ]
     },
     "metadata": {},
     "output_type": "display_data"
    },
    {
     "data": {
      "application/vnd.jupyter.widget-view+json": {
       "model_id": "31cb167aa3f244c984d4bb2151fe12c9",
       "version_major": 2,
       "version_minor": 0
      },
      "text/plain": [
       "Generating validation split:   0%|          | 0/4401 [00:00<?, ? examples/s]"
      ]
     },
     "metadata": {},
     "output_type": "display_data"
    },
    {
     "data": {
      "application/vnd.jupyter.widget-view+json": {
       "model_id": "6fec0641b710462c8c2bd4082ff301ac",
       "version_major": 2,
       "version_minor": 0
      },
      "text/plain": [
       "Filter:   0%|          | 0/84437 [00:00<?, ? examples/s]"
      ]
     },
     "metadata": {},
     "output_type": "display_data"
    }
   ],
   "source": [
    "from datasets import load_dataset\n",
    "\n",
    "dataset_name = \"OpenAssistant/oasst1\" # https://huggingface.co/datasets/OpenAssistant/oasst1\n",
    "# Load all available splits\n",
    "dataset_dict = load_dataset(dataset_name) \n",
    "\n",
    "dataset = dataset_dict['train'].filter(lambda x: x[\"lang\"] == \"en\")\n"
   ]
  },
  {
   "cell_type": "markdown",
   "id": "9d7040c5-dcc0-4292-868c-f6e3be2d2bae",
   "metadata": {
    "tags": []
   },
   "source": [
    "# Dataset Preprocessing"
   ]
  },
  {
   "cell_type": "code",
   "execution_count": 5,
   "id": "85ccc22f-3b9a-471f-a471-5943e15cd69e",
   "metadata": {
    "tags": []
   },
   "outputs": [],
   "source": [
    "def build_prompt_reply_pairs(dataset, max_num_pairs : int = 500, verbose : int = 1):\n",
    "    prompt_reply = {}\n",
    "    count_pairs = 0\n",
    "    for example in dataset:\n",
    "        parent_id = example[\"parent_id\"]\n",
    "        role = example[\"role\"]\n",
    "        example_id = example[\"message_id\"]\n",
    "        text = example[\"text\"]\n",
    "        if parent_id is None:\n",
    "            if role == \"prompter\":\n",
    "                reply = prompt_reply[example_id][1] if id in prompt_reply else None\n",
    "                prompt_reply[example_id] = (text, reply)\n",
    "                count_pairs += 1\n",
    "                if count_pairs >= max_num_pairs:\n",
    "                    break\n",
    "        else:\n",
    "            if role == \"assistant\":\n",
    "                if parent_id not in prompt_reply:\n",
    "                    prompt_reply[parent_id] = (None, text)\n",
    "                elif prompt_reply[parent_id][1] is None:\n",
    "                    prompt_reply[parent_id] = (prompt_reply[parent_id][0], text)\n",
    "                    count_pairs += 1\n",
    "                    if count_pairs >= max_num_pairs:\n",
    "                        break\n",
    "                        \n",
    "    ret = [pair for pair in prompt_reply.values() if pair[0] is not None and pair[1] is not None]\n",
    "    if verbose > 0:\n",
    "        print(f\"Collected {len(ret)} prompt-reply pairs.\")\n",
    "        print(\"Sample pair:\\n\", ret[0])\n",
    "    return ret\n"
   ]
  },
  {
   "cell_type": "code",
   "execution_count": 6,
   "id": "af6c1c90-e62a-4e04-be08-1db3ace62536",
   "metadata": {
    "tags": []
   },
   "outputs": [
    {
     "name": "stdout",
     "output_type": "stream",
     "text": [
      "Collected 250 prompt-reply pairs.\n",
      "Sample pair:\n",
      " ('Can you write a short introduction about the relevance of the term \"monopsony\" in economics? Please use examples related to potential monopsonies in the labour market and cite relevant research.', '\"Monopsony\" refers to a market structure where there is only one buyer for a particular good or service. In economics, this term is particularly relevant in the labor market, where a monopsony employer has significant power over the wages and working conditions of their employees. The presence of a monopsony can result in lower wages and reduced employment opportunities for workers, as the employer has little incentive to increase wages or provide better working conditions.\\n\\nRecent research has identified potential monopsonies in industries such as retail and fast food, where a few large companies control a significant portion of the market (Bivens & Mishel, 2013). In these industries, workers often face low wages, limited benefits, and reduced bargaining power, leading to a situation where they are dependent on the employer for their livelihood. This dependence can result in further suppression of wages and a decline in working conditions.\\n\\nOverall, the concept of monopsony is essential to understanding the dynamics of labor markets and the impact of market power on workers. Further research is needed to understand the extent and impact of monopsonies on the economy and to develop policies to address this issue.\\n\\nReferences:\\nBivens, J., & Mishel, L. (2013). The Pay of Corporate Executives and Financial Professionals as Evidence of Rents in Top 1 Percent Incomes. Journal of Economic Perspectives, 27(3), 57-78.')\n",
      "Max number of tokens in replies: 862\n"
     ]
    }
   ],
   "source": [
    "from collections import namedtuple\n",
    "\n",
    "prompt_reply_pairs = build_prompt_reply_pairs(dataset)\n",
    "\n",
    "prompts, replies = map(list,zip(*prompt_reply_pairs))\n",
    "replies_tokens = [tokenizer.encode(reply) for reply in replies]\n",
    "replies_embeddings = embedding_model.encode(replies)\n",
    "\n",
    "max_reply_tokens = max(len(reply) for reply in replies_tokens)\n",
    "\n",
    "reply_output = namedtuple('reply_output', ['text', 'token_ids', 'embedding'])\n",
    "\n",
    "replies_outputs = [reply_output(text, token_ids, embedding) for text, token_ids, embedding in zip(replies, replies_tokens, replies_embeddings)]\n",
    "\n",
    "print(\"Max number of tokens in replies:\", max_reply_tokens)\n"
   ]
  },
  {
   "cell_type": "markdown",
   "id": "f650053d-6a9f-43a7-b1f1-08bd5f8910ef",
   "metadata": {},
   "source": [
    "# Run Speculative Draft Generation"
   ]
  },
  {
   "cell_type": "code",
   "execution_count": 7,
   "id": "37c6325c-82c0-470d-82a2-b4beae61475f",
   "metadata": {
    "tags": []
   },
   "outputs": [
    {
     "data": {
      "application/vnd.jupyter.widget-view+json": {
       "model_id": "547807a5898c402d956d3e67527fddd9",
       "version_major": 2,
       "version_minor": 0
      },
      "text/plain": [
       "Adding requests:   0%|          | 0/250 [00:00<?, ?it/s]"
      ]
     },
     "metadata": {},
     "output_type": "display_data"
    },
    {
     "data": {
      "application/vnd.jupyter.widget-view+json": {
       "model_id": "6424d2ae077b419c8b2fcf7497423726",
       "version_major": 2,
       "version_minor": 0
      },
      "text/plain": [
       "Processed prompts:   0%|          | 0/25000 [00:00<?, ?it/s, est. speed input: 0.00 toks/s, output: 0.00 toks/…"
      ]
     },
     "metadata": {},
     "output_type": "display_data"
    }
   ],
   "source": [
    "generated_outputs = llm.generate(prompts, SamplingParams(\n",
    "        temperature=0.7,\n",
    "        max_tokens=max_reply_tokens,\n",
    "        logprobs=1,\n",
    "        n = 100))"
   ]
  },
  {
   "cell_type": "markdown",
   "id": "54898358-d5f3-465e-a748-c2ffaf2a2fdc",
   "metadata": {},
   "source": [
    "# Scoring Utilities"
   ]
  },
  {
   "cell_type": "code",
   "execution_count": 8,
   "id": "98b9b38a-eba6-4a67-bd8d-e49bd295a135",
   "metadata": {
    "tags": []
   },
   "outputs": [],
   "source": [
    "from collections import Counter\n",
    "\n",
    "def count_accepted_token_relaxed(reply, generated_replies):\n",
    "    ref_counter = Counter(reply.token_ids)\n",
    "    total_ref_tokens = sum(ref_counter.values())\n",
    "    if total_ref_tokens < 1:\n",
    "        return None\n",
    "    was_list = isinstance(generated_replies, list)\n",
    "    if not was_list:\n",
    "        generated_replies = [generated_replies]\n",
    "    ret = []\n",
    "    for generated in generated_replies:\n",
    "        gen_counter = Counter(generated.token_ids)\n",
    "        correct_hits = sum(min(ref_counter[tok], gen_counter[tok]) for tok in ref_counter)\n",
    "        ret.append(correct_hits / total_ref_tokens)\n",
    "    if not was_list:\n",
    "        ret = ret[0]\n",
    "    return ret\n"
   ]
  },
  {
   "cell_type": "code",
   "execution_count": 9,
   "id": "b2400a00-3d5b-4158-bee1-32a017e99d3f",
   "metadata": {
    "tags": []
   },
   "outputs": [],
   "source": [
    "def calc_avg_logprob(generated_reply):\n",
    "    count_log_probs = 0\n",
    "    sum_log_probs = 0.0\n",
    "    for token_id, token_logprobs_dict in zip(generated_reply.token_ids, generated_reply.logprobs):\n",
    "        logprob_entry = token_logprobs_dict.get(token_id, None)\n",
    "        if logprob_entry is None:\n",
    "            continue\n",
    "        count_log_probs += 1\n",
    "        sum_log_probs += logprob_entry.logprob\n",
    "    if not count_log_probs:\n",
    "        return None\n",
    "    return sum_log_probs / count_log_probs\n"
   ]
  },
  {
   "cell_type": "markdown",
   "id": "b68e8e17-17fe-43d9-881e-ec60eafb0ae7",
   "metadata": {},
   "source": [
    "# Collect Outputs Scores"
   ]
  },
  {
   "cell_type": "code",
   "execution_count": 10,
   "id": "c37f24ef-5a12-4c0b-988d-b03f60735cc4",
   "metadata": {
    "tags": []
   },
   "outputs": [],
   "source": [
    "def collect_outputs_scores(outputs, replies):\n",
    "    ret = {}\n",
    "    for output, reply in zip(outputs,replies):\n",
    "        log_prob_list = [calc_avg_logprob(generated) for generated in output.outputs]\n",
    "        scored_completions = [(generated, avg_log_prob) for generated, avg_log_prob in zip(output.outputs, log_prob_list) if avg_log_prob is not None]\n",
    "        generated, log_prob_list = map(list,zip(*scored_completions))\n",
    "        hit_scores = count_accepted_token_relaxed(reply, generated)\n",
    "        generated_texts = [gen.text for gen in generated]\n",
    "        generated_embeddings = embedding_model.encode(generated_texts)\n",
    "        embedding_scores = (generated_embeddings@reply.embedding.reshape(-1,1)).reshape(-1).tolist()\n",
    "        ret[output.prompt] = {\n",
    "            'generated_texts': generated_texts,\\\n",
    "            'log_prob_list': log_prob_list,\\\n",
    "            'embedding_scores' : embedding_scores,\\\n",
    "            'hit_scores' : hit_scores\n",
    "        }\n",
    "    return ret\n",
    "        "
   ]
  },
  {
   "cell_type": "code",
   "execution_count": 11,
   "id": "caa911c7-4363-4b38-ad12-44f92f49d2ac",
   "metadata": {},
   "outputs": [],
   "source": [
    "outputs_scores = collect_outputs_scores(generated_outputs, replies_outputs)"
   ]
  },
  {
   "cell_type": "markdown",
   "id": "18072eb6-5289-451f-b980-cd405fa2286a",
   "metadata": {},
   "source": [
    "# Statistics --> Checking Relationship "
   ]
  },
  {
   "cell_type": "code",
   "execution_count": 12,
   "id": "3e9f7021-657c-4871-b1a9-c23b96ecbf94",
   "metadata": {
    "tags": []
   },
   "outputs": [],
   "source": [
    "from scipy.stats import spearmanr\n",
    "\n",
    "spearman_hit = []\n",
    "spearman_embedding = []\n",
    "for prompt,output in outputs_scores.items():\n",
    "    generated_texts = output['generated_texts']\n",
    "    log_prob_list = output['log_prob_list']\n",
    "    embedding_scores = output['embedding_scores']\n",
    "    hit_scores = output['hit_scores']\n",
    "    spearman_hit.append(spearmanr(log_prob_list, hit_scores)[0])\n",
    "    spearman_embedding.append(spearmanr(log_prob_list, embedding_scores)[0])\n",
    "    \n"
   ]
  },
  {
   "cell_type": "code",
   "execution_count": 13,
   "id": "f2848bc5-c97e-406b-aeea-89592be46fdf",
   "metadata": {
    "tags": []
   },
   "outputs": [
    {
     "data": {
      "image/png": "[encoded data removed]",
      "text/plain": [
       "<Figure size 800x600 with 2 Axes>"
      ]
     },
     "metadata": {},
     "output_type": "display_data"
    }
   ],
   "source": [
    "import matplotlib.pyplot as plt\n",
    "\n",
    "bins = int(np.sqrt(len(spearman_embedding)) + 1)\n",
    "\n",
    "fig, axes = plt.subplots(nrows=2, ncols=1, sharex=True, figsize=(8, 6))\n",
    "\n",
    "# First plot: Embedding Spearman\n",
    "axes[0].hist(spearman_embedding, bins=bins, density=True, alpha=0.6, edgecolor='black')\n",
    "axes[0].set_ylabel(\"Density\")\n",
    "axes[0].set_title(\"Spearman: Embedding Similarity vs. Log Probability\")\n",
    "axes[0].grid(True)\n",
    "axes[0].set_xlim(-1, 1)\n",
    "\n",
    "# Second plot: Hit Score Spearman\n",
    "axes[1].hist(spearman_hit, bins=bins, density=True, alpha=0.6, edgecolor='black')\n",
    "axes[1].set_xlabel(\"Spearman Correlation Factor\")\n",
    "axes[1].set_ylabel(\"Density\")\n",
    "axes[1].set_title(\"Spearman: Hit Score vs. Log Probability\")\n",
    "axes[1].grid(True)\n",
    "axes[1].set_xlim(-1, 1)\n",
    "\n",
    "plt.tight_layout()\n",
    "plt.show()\n"
   ]
  },
  {
   "cell_type": "markdown",
   "id": "7b324def-54d6-44fb-868c-4720c2c00906",
   "metadata": {},
   "source": [
    "# Release Resources"
   ]
  },
  {
   "cell_type": "code",
   "execution_count": 14,
   "id": "25932c56-bfff-4906-8fec-1ac55921e673",
   "metadata": {
    "tags": []
   },
   "outputs": [],
   "source": [
    "import torch.distributed as dist\n",
    "\n",
    "if dist.is_initialized():\n",
    "    dist.destroy_process_group()"
   ]
  }
 ],
 "metadata": {
  "kernelspec": {
   "display_name": "Python (vllm_venv)",
   "language": "python",
   "name": "vllm_venv"
  },
  "language_info": {
   "codemirror_mode": {
    "name": "ipython",
    "version": 3
   },
   "file_extension": ".py",
   "mimetype": "text/x-python",
   "name": "python",
   "nbconvert_exporter": "python",
   "pygments_lexer": "ipython3",
   "version": "3.11.7"
  }
 },
 "nbformat": 4,
 "nbformat_minor": 5
}
